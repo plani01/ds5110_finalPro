{
 "cells": [
  {
   "cell_type": "code",
   "execution_count": 113,
   "id": "07fcb00d-6bc6-49b4-a470-95cc739fcf0d",
   "metadata": {},
   "outputs": [
    {
     "name": "stdout",
     "output_type": "stream",
     "text": [
      "Requirement already satisfied: faker in c:\\users\\aidhe\\anaconda3\\lib\\site-packages (30.8.2)\n",
      "Requirement already satisfied: python-dateutil>=2.4 in c:\\users\\aidhe\\anaconda3\\lib\\site-packages (from faker) (2.9.0.post0)\n",
      "Requirement already satisfied: typing-extensions in c:\\users\\aidhe\\anaconda3\\lib\\site-packages (from faker) (4.11.0)\n",
      "Requirement already satisfied: six>=1.5 in c:\\users\\aidhe\\anaconda3\\lib\\site-packages (from python-dateutil>=2.4->faker) (1.16.0)\n"
     ]
    }
   ],
   "source": [
    "!pip install faker\n",
    "\n"
   ]
  },
  {
   "cell_type": "code",
   "execution_count": 123,
   "id": "f9199d13-9d71-4e6b-a90b-d2c021cf912c",
   "metadata": {},
   "outputs": [],
   "source": [
    "from faker import Faker\n",
    "import pandas as pd\n",
    "faker = Faker(locale = 'en_US')\n",
    "def generateData(num):\n",
    "    movieInformation =[]\n",
    "    for i in range(num):\n",
    "        MovieInfo = {}\n",
    "        MovieInfo['Release Year'] = faker.random_int(min = 2000,max = 2024)\n",
    "        MovieInfo['Release Month'] = faker.random_element(elements=(\"January\",\"Feburary\",\"March\",\"April\",\"May\",\"June\",\"July\",\"August\",\"September\",\"October\",\"November\",\"Decemeber\"))\n",
    "        MovieInfo['Title'] = faker.catch_phrase()\n",
    "        MovieInfo['Rating'] = faker.random_element(elements=(\"G\",\"PG\",\"PG-13\",\"R\",\"M\"))\n",
    "        MovieInfo['Duration Time'] = faker.random_int(min = 60, max = 180)\n",
    "        MovieInfo[\"Production Company\"] = faker.random_element(elements=(\"Paramount Pictures\",\"Walt Disney Company\",\"Warner Bros\",\"Universal Pictures\",\"20th Century Studios\",\"MGM Studios\",\"Sony Pictures Entertainment\",\"Lionsgate\",\"DreamWorks\",\"Columbia Pictures\",\"Apple Studios\",\"Gaumont\",\"Harpo Productions\",\"Cinemax films\",\"Lucasfilm\",\"Legendary Entertainment\"))\n",
    "        MovieInfo['Director'] = faker.name()\n",
    "        MovieInfo['Genre'] = faker.random_element(elements=(\"Action\",\"Comedy\",\"Drama\",\"Horror\",\"Sci-Fi\",\"Fantasy\",\"Romance\",\"Thriller\",\"Mystery\"))\n",
    "        MovieInfo['Box Office Length (Weeks)'] = faker.random_int(min = 4, max = 12) \n",
    "        MovieInfo['Budget'] = faker.random_int(min = 10000000, max = 200000000)\n",
    "        MovieInfo['Revenue'] = faker.random_int(min = 10000000, max = 500000000)\n",
    "        MovieInfo['Origin of Production'] = faker.state()\n",
    "        MovieInfo['Rotten Tomatoes Score'] = faker.random_int(min = 0, max = 100)\n",
    "        MovieInfo['International Release'] = faker.random_element(elements=(\"Yes\",\"No\"))\n",
    "        movieInformation.append(MovieInfo)\n",
    "    return pd.DataFrame(movieInformation)\n",
    "movieNames = generateData(100000)\n",
    "movieNames.to_csv(\"MovieData.csv\", index = False)\n"
   ]
  },
  {
   "cell_type": "code",
   "execution_count": null,
   "id": "00c0495e-4abf-4c8d-94f1-719ab52ae94a",
   "metadata": {},
   "outputs": [],
   "source": []
  },
  {
   "cell_type": "code",
   "execution_count": null,
   "id": "8401e413-b61b-4309-bcd2-a31d1dc31d92",
   "metadata": {},
   "outputs": [],
   "source": []
  }
 ],
 "metadata": {
  "kernelspec": {
   "display_name": "Python 3 (ipykernel)",
   "language": "python",
   "name": "python3"
  },
  "language_info": {
   "codemirror_mode": {
    "name": "ipython",
    "version": 3
   },
   "file_extension": ".py",
   "mimetype": "text/x-python",
   "name": "python",
   "nbconvert_exporter": "python",
   "pygments_lexer": "ipython3",
   "version": "3.12.4"
  }
 },
 "nbformat": 4,
 "nbformat_minor": 5
}
